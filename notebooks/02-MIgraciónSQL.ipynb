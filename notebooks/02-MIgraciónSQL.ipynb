{
 "cells": [
  {
   "cell_type": "code",
   "execution_count": null,
   "metadata": {},
   "outputs": [],
   "source": []
  },
  {
   "cell_type": "code",
   "execution_count": 1,
   "metadata": {},
   "outputs": [],
   "source": [
    "#--- \n",
    "import pandas as pd\n",
    "import numpy as np\n",
    "#---\n",
    "import re\n",
    "from unidecode import unidecode\n",
    "#---\n",
    "import datetime\n",
    "\n",
    "#---\n",
    "import matplotlib.pyplot as plt\n",
    "import seaborn as sns\n",
    "#--- Scraping\n",
    "import requests\n",
    "from bs4 import BeautifulSoup\n",
    "\n",
    "#---\n",
    "import os\n",
    "import requests\n",
    "import gzip\n",
    "import shutil\n",
    "from tqdm import tqdm\n",
    "\n",
    "from datetime import timedelta, date\n",
    "import math\n",
    "import requests\n",
    "from bs4 import BeautifulSoup\n",
    "from pathlib import Path\n",
    "#---\n",
    "from sqlalchemy import create_engine, Column, Integer, String, Float, DateTime, Boolean\n",
    "from sqlalchemy.dialects.postgresql import ARRAY"
   ]
  },
  {
   "cell_type": "code",
   "execution_count": null,
   "metadata": {},
   "outputs": [],
   "source": []
  },
  {
   "cell_type": "code",
   "execution_count": null,
   "metadata": {},
   "outputs": [],
   "source": []
  },
  {
   "cell_type": "code",
   "execution_count": 13,
   "metadata": {},
   "outputs": [],
   "source": [
    "df = pd.read_csv('../datasets/processed/homicidios_lm.csv', sep=',',index_col='Unnamed: 0', encoding='utf-8')"
   ]
  },
  {
   "cell_type": "code",
   "execution_count": 15,
   "metadata": {},
   "outputs": [
    {
     "name": "stdout",
     "output_type": "stream",
     "text": [
      "<class 'pandas.core.frame.DataFrame'>\n",
      "Index: 696 entries, 0 to 695\n",
      "Data columns (total 18 columns):\n",
      " #   Column                 Non-Null Count  Dtype  \n",
      "---  ------                 --------------  -----  \n",
      " 0   id                     696 non-null    object \n",
      " 1   n_victimas             696 non-null    int64  \n",
      " 2   lugar_del_hecho        696 non-null    object \n",
      " 3   tipo_de_calle          696 non-null    object \n",
      " 4   direccion_normalizada  696 non-null    object \n",
      " 5   comuna                 696 non-null    int64  \n",
      " 6   pos_x                  684 non-null    float64\n",
      " 7   pos_y                  684 non-null    float64\n",
      " 8   acusado                696 non-null    object \n",
      " 9   anio                   696 non-null    int64  \n",
      " 10  mes                    696 non-null    int64  \n",
      " 11  dia                    696 non-null    int64  \n",
      " 12  fecha_hora             696 non-null    object \n",
      " 13  fecha_formato          696 non-null    object \n",
      " 14  hora_formato           696 non-null    object \n",
      " 15  hora_i                 696 non-null    int64  \n",
      " 16  coordenada_x           682 non-null    float64\n",
      " 17  coordenada_y           682 non-null    float64\n",
      "dtypes: float64(4), int64(6), object(8)\n",
      "memory usage: 103.3+ KB\n"
     ]
    }
   ],
   "source": [
    "df.info()"
   ]
  },
  {
   "cell_type": "code",
   "execution_count": 16,
   "metadata": {},
   "outputs": [
    {
     "data": {
      "text/plain": [
       "Index(['id', 'n_victimas', 'lugar_del_hecho', 'tipo_de_calle',\n",
       "       'direccion_normalizada', 'comuna', 'pos_x', 'pos_y', 'acusado', 'anio',\n",
       "       'mes', 'dia', 'fecha_hora', 'fecha_formato', 'hora_formato', 'hora_i',\n",
       "       'coordenada_x', 'coordenada_y'],\n",
       "      dtype='object')"
      ]
     },
     "execution_count": 16,
     "metadata": {},
     "output_type": "execute_result"
    }
   ],
   "source": [
    "df.columns"
   ]
  },
  {
   "cell_type": "code",
   "execution_count": null,
   "metadata": {},
   "outputs": [],
   "source": [
    "class Propiedad(Base):\n",
    "    __tablename__ = \"homicidios_h\"\n",
    "\n",
    "    id = Column(String, primary_key=True)\n",
    "    n_victimas = Column(Integer)\n",
    "    lugar_del_hecho = Column(String)\n",
    "    tipo_de_calle = Column(String)\n",
    "    direccion_normalizada = Column(String)\n",
    "    comuna = Column(Integer)\n",
    "    pos_x = Column(Float)\n",
    "    pos_y = Column(Float)\n",
    "    acusado = Column(String)\n",
    "    anio = Column(Integer)\n",
    "    mes = Column(Integer)\n",
    "    dia = Column(Integer)\n",
    "    fecha_hora = Column(String)\n",
    "    fecha_formato = Column(String)\n",
    "    hora_formato = Column(String)\n",
    "    hora_i = Column(Integer)\n",
    "    coordenada_x = Column(Float)\n",
    "    coordenada_y = Column(Float)\n",
    "\n"
   ]
  },
  {
   "cell_type": "code",
   "execution_count": null,
   "metadata": {},
   "outputs": [],
   "source": [
    "'id', 'n_victimas', 'lugar_del_hecho', 'tipo_de_calle',\n",
    "       'direccion_normalizada', 'comuna', 'pos_x', 'pos_y', 'acusado', 'anio',\n",
    "       'mes', 'dia', 'fecha_hora', 'fecha_formato', 'hora_formato', 'hora_i',\n",
    "       'coordenada_x', 'coordenada_y'"
   ]
  }
 ],
 "metadata": {
  "kernelspec": {
   "display_name": "Python 3",
   "language": "python",
   "name": "python3"
  },
  "language_info": {
   "codemirror_mode": {
    "name": "ipython",
    "version": 3
   },
   "file_extension": ".py",
   "mimetype": "text/x-python",
   "name": "python",
   "nbconvert_exporter": "python",
   "pygments_lexer": "ipython3",
   "version": "3.10.11"
  }
 },
 "nbformat": 4,
 "nbformat_minor": 2
}
