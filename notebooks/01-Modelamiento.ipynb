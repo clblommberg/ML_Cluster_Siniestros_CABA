{
 "cells": [
  {
   "cell_type": "code",
   "execution_count": null,
   "metadata": {},
   "outputs": [],
   "source": []
  },
  {
   "cell_type": "code",
   "execution_count": 23,
   "metadata": {},
   "outputs": [],
   "source": [
    "#--- \n",
    "import pandas as pd\n",
    "import numpy as np\n",
    "#---\n",
    "import re\n",
    "from unidecode import unidecode\n",
    "#---\n",
    "import datetime\n",
    "\n",
    "#---\n",
    "import matplotlib.pyplot as plt\n",
    "import seaborn as sns\n",
    "#--- Scraping\n",
    "import requests\n",
    "from bs4 import BeautifulSoup\n",
    "\n",
    "#---\n",
    "import os\n",
    "import requests\n",
    "import gzip\n",
    "import shutil\n",
    "from tqdm import tqdm\n",
    "\n",
    "from datetime import timedelta, date\n",
    "import math\n",
    "import requests\n",
    "from bs4 import BeautifulSoup\n",
    "from pathlib import Path"
   ]
  },
  {
   "cell_type": "code",
   "execution_count": null,
   "metadata": {},
   "outputs": [],
   "source": []
  },
  {
   "cell_type": "markdown",
   "metadata": {},
   "source": [
    "## Importación de Datos"
   ]
  },
  {
   "cell_type": "code",
   "execution_count": 24,
   "metadata": {},
   "outputs": [],
   "source": [
    "homicidios = pd.read_excel('../datasets/raw/homicidios.xlsx',sheet_name = 'HECHOS', engine='openpyxl')\n",
    "victima_h = pd.read_excel('../datasets/raw/homicidios.xlsx',sheet_name = 'VICTIMAS',  engine='openpyxl')\n",
    "comunas_h = pd.read_excel('../datasets/raw/comunas.xlsx' , sheet_name = 'comunas',  engine='openpyxl')\n",
    "lesiones = pd.read_excel('../datasets/raw/lesiones.xlsx' , sheet_name = 'HECHOS',  engine='openpyxl')\n",
    "victima_l = pd.read_excel('../datasets/raw/lesiones.xlsx' , sheet_name = 'VICTIMAS',  engine='openpyxl')\n",
    "# Revsisón de Modelo de datos\n",
    "homicidios.name = 'homicidios'\n",
    "victima_h.name = 'victima_h'\n",
    "comunas_h.name = 'comunas_h'\n",
    "lesiones.name = 'lesiones'\n",
    "victima_l.name = 'victima_l'\n"
   ]
  },
  {
   "cell_type": "code",
   "execution_count": 25,
   "metadata": {},
   "outputs": [],
   "source": [
    "pd.set_option('display.max_columns', None)\n",
    "dataframes = [homicidios, victima_h, comunas_h, lesiones, victima_l]"
   ]
  },
  {
   "cell_type": "code",
   "execution_count": 26,
   "metadata": {},
   "outputs": [
    {
     "name": "stdout",
     "output_type": "stream",
     "text": [
      "Dataframe homicidios:\n",
      "Registros 696 y Columnas 21\n",
      "\n",
      "Dataframe victima_h:\n",
      "Registros 717 y Columnas 10\n",
      "\n",
      "Dataframe comunas_h:\n",
      "Registros 15 y Columnas 6\n",
      "\n",
      "Dataframe lesiones:\n",
      "Registros 23785 y Columnas 27\n",
      "\n",
      "Dataframe victima_l:\n",
      "Registros 27605 y Columnas 9\n",
      "\n"
     ]
    }
   ],
   "source": [
    "for df in dataframes:\n",
    "    print(f\"Dataframe {df.name}:\\nRegistros {df.shape[0]} y Columnas {df.shape[1]}\\n\")"
   ]
  },
  {
   "cell_type": "markdown",
   "metadata": {},
   "source": [
    "## PreProcesamiento de Datos"
   ]
  },
  {
   "cell_type": "code",
   "execution_count": 27,
   "metadata": {},
   "outputs": [
    {
     "name": "stdout",
     "output_type": "stream",
     "text": [
      "Columnas de homicidios:\n",
      "Index(['id', 'n_victimas', 'fecha', 'aaaa', 'mm', 'dd', 'hora', 'hh',\n",
      "       'lugar_del_hecho', 'tipo_de_calle', 'calle', 'altura', 'cruce',\n",
      "       'direccion_normalizada', 'comuna', 'xy_caba_', 'pos_x', 'pos_y',\n",
      "       'participantes', 'victima', 'acusado'],\n",
      "      dtype='object')\n",
      "\n",
      "Columnas de victima_h:\n",
      "Index(['id_hecho', 'fecha', 'aaaa', 'mm', 'dd', 'rol', 'victima', 'sexo',\n",
      "       'edad', 'fecha_fallecimiento'],\n",
      "      dtype='object')\n",
      "\n",
      "Columnas de comunas_h:\n",
      "Index(['id', 'objeto', 'comunas', 'barrios', 'perimetro', 'area'], dtype='object')\n",
      "\n",
      "Columnas de lesiones:\n",
      "Index(['id', 'n_victimas', 'aaaa', 'mm', 'dd', 'fecha', 'hora', 'franja_hora',\n",
      "       'direccion_normalizada', 'comuna', 'tipo_calle', 'otra_direccion',\n",
      "       'calle', 'altura', 'cruce', 'geocodificacion_caba', 'longitud',\n",
      "       'latutid', 'victima', 'acusado', 'participantes', 'moto', 'auto',\n",
      "       'transporte_publico', 'camion', 'ciclista', 'gravedad'],\n",
      "      dtype='object')\n",
      "\n",
      "Columnas de victima_l:\n",
      "Index(['id_hecho', 'aaa', 'mm', 'dd', 'fecha_', 'vehiculo_victima', 'sexo',\n",
      "       'edad_victima', 'gravedad'],\n",
      "      dtype='object')\n",
      "\n"
     ]
    }
   ],
   "source": [
    "# Función para limpiar y formatear los nombres de las columnas\n",
    "def limpiar_nombre(nombre):\n",
    "    # Eliminar caracteres especiales y espacios\n",
    "    nombre = re.sub(r'\\W+', '_', nombre)\n",
    "    # Eliminar acentos\n",
    "    nombre = unidecode(nombre)\n",
    "    # Convertir a minúsculas\n",
    "    nombre = nombre.lower()\n",
    "    return nombre\n",
    "\n",
    "def limpiar_nombres_columnas(df):\n",
    "    df.columns = [limpiar_nombre(col) for col in df.columns]\n",
    "\n",
    "# Aplicar la función limpiar_nombres_columnas a cada DataFrame\n",
    "for df in dataframes:\n",
    "    limpiar_nombres_columnas(df)\n",
    "\n",
    "# Imprimir los nombres de las columnas limpias para cada DataFrame\n",
    "for df in dataframes:\n",
    "    print(f\"Columnas de {df.name}:\")\n",
    "    print(df.columns)\n",
    "    print()"
   ]
  },
  {
   "cell_type": "code",
   "execution_count": 28,
   "metadata": {},
   "outputs": [],
   "source": [
    "def reemplazar_nulos_y_raros(dataframes, valores_raros):\n",
    "    dataframes_limpios = []\n",
    "\n",
    "    for df in dataframes:\n",
    "        # Reemplazar los valores raros con NaN\n",
    "        df = df.replace(valores_raros, pd.NaT)\n",
    "\n",
    "        # Reemplazar los valores nulos con NaN\n",
    "        df = df.replace('', pd.NaT)\n",
    "\n",
    "        dataframes_limpios.append(df)\n",
    "\n",
    "    return dataframes_limpios\n",
    "\n",
    "dataframes = [homicidios, victima_h, comunas_h, lesiones, victima_l]\n",
    "# Definir qué valores consideras \"raros\"\n",
    "valores_raros = ['SD', 'No especificado', 'sd' , '']\n",
    "# Ejemplo de uso\n",
    "# Supongamos que tienes una lista de DataFrames llamada 'dataframes' y 'valores_raros' es la lista de valores raros\n",
    "dataframes_limpios = reemplazar_nulos_y_raros(dataframes, valores_raros)\n",
    "\n",
    "# Puedes asignar cada DataFrame tratado a una variable separada\n",
    "homicidios_l, victima_h_l, comunas_h_l, lesiones_l, victima_l_l = dataframes_limpios\n"
   ]
  },
  {
   "cell_type": "code",
   "execution_count": 29,
   "metadata": {},
   "outputs": [
    {
     "data": {
      "image/png": "[encoded data removed]",
      "text/plain": [
       "<Figure size 1500x500 with 5 Axes>"
      ]
     },
     "metadata": {},
     "output_type": "display_data"
    }
   ],
   "source": [
    "n_dataframes = len(dataframes_limpios)\n",
    "\n",
    "# Configurar la disposición de los subgráficos\n",
    "fig, axs = plt.subplots(1, n_dataframes, figsize=(15, 5))  # Ajusta el tamaño según tus necesidades\n",
    "\n",
    "# Iterar sobre los índices de los DataFrames y dibujar el mapa de calor en cada subgráfico\n",
    "for i in range(n_dataframes):\n",
    "    sns.heatmap(dataframes_limpios[i].isna(), yticklabels=False, cbar=False, cmap=\"Blues\", ax=axs[i])\n",
    "    axs[i].set_title(f'Mapa de Calor - Df{i+1}')  # Utiliza el índice para el título\n",
    "\n",
    "plt.show()"
   ]
  },
  {
   "cell_type": "markdown",
   "metadata": {},
   "source": [
    "**Se asume la politica de eliminar, según reporte EDA:**\n",
    "-  Campos gravedad de Df victima_l con 98% Faltantes, \n",
    "-  Campos gravedad de Df lesiones con 97% Faltantes y\n",
    "-  Campos altura de Df homicidios con 81% Faltantes."
   ]
  },
  {
   "cell_type": "code",
   "execution_count": null,
   "metadata": {},
   "outputs": [],
   "source": []
  },
  {
   "cell_type": "code",
   "execution_count": 30,
   "metadata": {},
   "outputs": [],
   "source": [
    "def procesar_dataframe(df):\n",
    "    # Convertir la columna de fecha a datetime\n",
    "    df['fecha'] = pd.to_datetime(df['fecha'])\n",
    "\n",
    "    # Crear nuevas columnas para año, mes y día\n",
    "    df['anio'] = df['fecha'].dt.year\n",
    "    df['mes'] = df['fecha'].dt.month\n",
    "    df['dia'] = df['fecha'].dt.day\n",
    "\n",
    "    # Llenar los valores nulos en 'hora' con '00:00:00'\n",
    "    df['hora'] = df['hora'].fillna('00:00:00')\n",
    "\n",
    "\n",
    "    # Convertir 'hora' a formato datetime\n",
    "    df['hora'] = pd.to_datetime(df['hora'], format='%H:%M:%S')\n",
    "\n",
    "    # Crear una nueva columna para fecha y hora combinadas\n",
    "    df['fecha_hora'] = pd.to_datetime(dict(\n",
    "        year=df['anio'],\n",
    "        month=df['mes'],\n",
    "        day=df['dia'],\n",
    "        hour=df['hora'].dt.hour,\n",
    "        minute=df['hora'].dt.minute\n",
    "    ))\n",
    "\n",
    "    # Eliminar columnas innecesarias\n",
    "    columns_to_drop = ['fecha', 'aaaa', 'mm', 'dd', 'hh','hora','altura']\n",
    "    df = df.drop(columns=columns_to_drop)\n",
    "\n",
    "    # Crear columnas formateadas para fecha y hora\n",
    "    df['fecha_formato'] = df['fecha_hora'].dt.strftime('%Y-%m-%d')\n",
    "    df['hora_formato'] = df['fecha_hora'].dt.strftime('%H:%M')\n",
    "    df['hora_i'] = df['fecha_hora'].dt.strftime('%H')\n",
    "    df['hora_i'] = df['hora_i'].astype('int')\n",
    "\n",
    "    return df\n",
    "\n",
    "# Ejemplo de uso:\n",
    "# Supongamos que tu DataFrame se llama 'df'\n",
    "homicidios_l = procesar_dataframe(homicidios_l.copy())\n"
   ]
  },
  {
   "cell_type": "code",
   "execution_count": 31,
   "metadata": {},
   "outputs": [],
   "source": [
    "def procesar_homicidios_l(df):\n",
    "    \n",
    "    # Seleccionar todas las columnas de tipo objeto\n",
    "    columnas_objeto = df.select_dtypes(include=['object']).columns\n",
    "    \n",
    "    # Reemplazar los valores NaN con \"SRE\" en las columnas seleccionadas\n",
    "    df[columnas_objeto] = df[columnas_objeto].fillna(\"SNR\")\n",
    "    \n",
    "    return df\n",
    "\n",
    "# Ejemplo de uso:\n",
    "# Supongamos que tu DataFrame se llama 'victima_h_l'\n",
    "homicidios_l = procesar_homicidios_l(homicidios_l.copy())"
   ]
  },
  {
   "cell_type": "code",
   "execution_count": 32,
   "metadata": {},
   "outputs": [],
   "source": [
    "def procesar_homicidios_l(df):\n",
    "    valid_positions = ~(df['pos_x'].str.contains('[^0-9.,-]') | df['pos_y'].str.contains('[^0-9.,-]') | (df['pos_x'] == '.') | (df['pos_y'] == '.'))\n",
    "\n",
    "    # Establecer posiciones no válidas en NaN\n",
    "    df.loc[~valid_positions, ['pos_x', 'pos_y']] = np.nan\n",
    "\n",
    "    # Convertir las cadenas a tipo numérico (float)\n",
    "    df['pos_x'] = df['pos_x'].str.replace(',', '.').astype(float)\n",
    "    df['pos_y'] = df['pos_y'].str.replace(',', '.').astype(float)\n",
    "    return df\n",
    "def extraer_coordenadas(texto):\n",
    "    # Utilizamos una expresión regular para extraer las coordenadas\n",
    "    coordenadas = re.findall(r'\\d+\\.\\d+', texto)\n",
    "    if len(coordenadas) == 2:\n",
    "        return float(coordenadas[0]), float(coordenadas[1])\n",
    "    else:\n",
    "        return None, None\n",
    "\n",
    "homicidios_lm = procesar_homicidios_l(homicidios_l)\n",
    "# Aplicar la función a la columna 'XY (CABA)'\n",
    "homicidios_lm['coordenada_x'], homicidios_lm['coordenada_y'] = zip(*homicidios_lm['xy_caba_'].map(extraer_coordenadas))\n",
    "\n",
    "# Eliminar columnas innecesarias\n",
    "columns_to_drop = ['xy_caba_', 'calle','cruce','participantes', 'victima']\n",
    "homicidios_lm = homicidios_lm.drop(columns=columns_to_drop)\n",
    "\n"
   ]
  },
  {
   "cell_type": "code",
   "execution_count": null,
   "metadata": {},
   "outputs": [],
   "source": []
  },
  {
   "cell_type": "code",
   "execution_count": 45,
   "metadata": {},
   "outputs": [],
   "source": [
    "def procesar_victima_h_l(df):\n",
    "    # Llenar los valores nulos en 'fecha_fallecimiento' con 'fecha' + 7 días\n",
    "    df['fecha_fallecimiento'] = df['fecha_fallecimiento'].combine_first(df['fecha'] + pd.DateOffset(days=7))\n",
    "    \n",
    "    # Seleccionar todas las columnas de tipo objeto\n",
    "    columnas_objeto = df.select_dtypes(include=['object']).columns\n",
    "    \n",
    "    # Reemplazar los valores NaN con \"SRE\" en las columnas seleccionadas\n",
    "    df[columnas_objeto] = df[columnas_objeto].fillna(\"SNR\")\n",
    "    # Eliminar columnas innecesarias\n",
    "    columns_to_drop = ['fecha','aaaa', 'mm', 'dd']\n",
    "    df2 = df.drop(columns=columns_to_drop)\n",
    "    # Llenar los valores nulos en 'hora' con '00:00:00'\n",
    "    df2['fecha_fallecimiento'] = df2['fecha_fallecimiento'].fillna('2018-09-21 00:00:00')\n",
    "    df2['fecha_fallecimiento'] =  pd.to_datetime(df2['fecha_fallecimiento'])\n",
    "\n",
    " \n",
    "    return df2\n",
    "\n",
    "# Ejemplo de uso:\n",
    "# Supongamos que tu DataFrame se llama 'victima_h_l'\n",
    "victima_h_lm = procesar_victima_h_l(victima_h_l.copy())"
   ]
  },
  {
   "cell_type": "code",
   "execution_count": 46,
   "metadata": {},
   "outputs": [
    {
     "name": "stdout",
     "output_type": "stream",
     "text": [
      "<class 'pandas.core.frame.DataFrame'>\n",
      "RangeIndex: 717 entries, 0 to 716\n",
      "Data columns (total 6 columns):\n",
      " #   Column               Non-Null Count  Dtype         \n",
      "---  ------               --------------  -----         \n",
      " 0   id_hecho             717 non-null    object        \n",
      " 1   rol                  717 non-null    object        \n",
      " 2   victima              717 non-null    object        \n",
      " 3   sexo                 717 non-null    object        \n",
      " 4   edad                 717 non-null    object        \n",
      " 5   fecha_fallecimiento  717 non-null    datetime64[ns]\n",
      "dtypes: datetime64[ns](1), object(5)\n",
      "memory usage: 33.7+ KB\n"
     ]
    }
   ],
   "source": [
    "victima_h_lm.info()"
   ]
  },
  {
   "cell_type": "code",
   "execution_count": 35,
   "metadata": {},
   "outputs": [
    {
     "data": {
      "text/plain": [
       "(717, 6)"
      ]
     },
     "execution_count": 35,
     "metadata": {},
     "output_type": "execute_result"
    }
   ],
   "source": [
    "victima_h_lm.shape"
   ]
  },
  {
   "cell_type": "code",
   "execution_count": 36,
   "metadata": {},
   "outputs": [
    {
     "data": {
      "text/plain": [
       "(696, 18)"
      ]
     },
     "execution_count": 36,
     "metadata": {},
     "output_type": "execute_result"
    }
   ],
   "source": [
    "homicidios_lm.shape"
   ]
  },
  {
   "cell_type": "markdown",
   "metadata": {},
   "source": [
    "## Expotar Datos ETL"
   ]
  },
  {
   "cell_type": "code",
   "execution_count": 37,
   "metadata": {},
   "outputs": [],
   "source": [
    "homicidios_lm.to_csv('../datasets/processed/homicidios_lm.csv')"
   ]
  },
  {
   "cell_type": "code",
   "execution_count": 47,
   "metadata": {},
   "outputs": [],
   "source": [
    "victima_h_lm.to_csv('../datasets/processed/victima_h_lm.csv')"
   ]
  },
  {
   "cell_type": "code",
   "execution_count": 39,
   "metadata": {},
   "outputs": [],
   "source": [
    "comunas_h_l.to_csv('../datasets/processed/comunas_h_l.csv')"
   ]
  },
  {
   "cell_type": "code",
   "execution_count": 40,
   "metadata": {},
   "outputs": [],
   "source": [
    "#https://www.indec.gob.ar/indec/web/Institucional-Indec-BasesDeDatos-6\n",
    "#https://data.buenosaires.gob.ar/dataset/informacion-censal-por-radio"
   ]
  },
  {
   "cell_type": "code",
   "execution_count": 41,
   "metadata": {},
   "outputs": [
    {
     "name": "stdout",
     "output_type": "stream",
     "text": [
      "<class 'pandas.core.frame.DataFrame'>\n",
      "RangeIndex: 696 entries, 0 to 695\n",
      "Data columns (total 18 columns):\n",
      " #   Column                 Non-Null Count  Dtype         \n",
      "---  ------                 --------------  -----         \n",
      " 0   id                     696 non-null    object        \n",
      " 1   n_victimas             696 non-null    int64         \n",
      " 2   lugar_del_hecho        696 non-null    object        \n",
      " 3   tipo_de_calle          696 non-null    object        \n",
      " 4   direccion_normalizada  696 non-null    object        \n",
      " 5   comuna                 696 non-null    int64         \n",
      " 6   pos_x                  684 non-null    float64       \n",
      " 7   pos_y                  684 non-null    float64       \n",
      " 8   acusado                696 non-null    object        \n",
      " 9   anio                   696 non-null    int32         \n",
      " 10  mes                    696 non-null    int32         \n",
      " 11  dia                    696 non-null    int32         \n",
      " 12  fecha_hora             696 non-null    datetime64[ns]\n",
      " 13  fecha_formato          696 non-null    object        \n",
      " 14  hora_formato           696 non-null    object        \n",
      " 15  hora_i                 696 non-null    int32         \n",
      " 16  coordenada_x           682 non-null    float64       \n",
      " 17  coordenada_y           682 non-null    float64       \n",
      "dtypes: datetime64[ns](1), float64(4), int32(4), int64(2), object(7)\n",
      "memory usage: 87.1+ KB\n"
     ]
    }
   ],
   "source": [
    "homicidios_lm.info()"
   ]
  },
  {
   "cell_type": "code",
   "execution_count": 42,
   "metadata": {},
   "outputs": [
    {
     "name": "stdout",
     "output_type": "stream",
     "text": [
      "<class 'pandas.core.frame.DataFrame'>\n",
      "RangeIndex: 717 entries, 0 to 716\n",
      "Data columns (total 6 columns):\n",
      " #   Column               Non-Null Count  Dtype         \n",
      "---  ------               --------------  -----         \n",
      " 0   id_hecho             717 non-null    object        \n",
      " 1   rol                  717 non-null    object        \n",
      " 2   victima              717 non-null    object        \n",
      " 3   sexo                 717 non-null    object        \n",
      " 4   edad                 717 non-null    object        \n",
      " 5   fecha_fallecimiento  649 non-null    datetime64[ns]\n",
      "dtypes: datetime64[ns](1), object(5)\n",
      "memory usage: 33.7+ KB\n"
     ]
    }
   ],
   "source": [
    "victima_h_lm.info()"
   ]
  },
  {
   "cell_type": "code",
   "execution_count": 48,
   "metadata": {},
   "outputs": [
    {
     "name": "stdout",
     "output_type": "stream",
     "text": [
      "<class 'pandas.core.frame.DataFrame'>\n",
      "RangeIndex: 15 entries, 0 to 14\n",
      "Data columns (total 6 columns):\n",
      " #   Column     Non-Null Count  Dtype  \n",
      "---  ------     --------------  -----  \n",
      " 0   id         15 non-null     int64  \n",
      " 1   objeto     15 non-null     object \n",
      " 2   comunas    15 non-null     int64  \n",
      " 3   barrios    15 non-null     object \n",
      " 4   perimetro  15 non-null     float64\n",
      " 5   area       15 non-null     float64\n",
      "dtypes: float64(2), int64(2), object(2)\n",
      "memory usage: 848.0+ bytes\n"
     ]
    }
   ],
   "source": [
    "comunas_h_l.info()"
   ]
  },
  {
   "cell_type": "code",
   "execution_count": 43,
   "metadata": {},
   "outputs": [
    {
     "data": {
      "text/html": [
       "<div>\n",
       "<style scoped>\n",
       "    .dataframe tbody tr th:only-of-type {\n",
       "        vertical-align: middle;\n",
       "    }\n",
       "\n",
       "    .dataframe tbody tr th {\n",
       "        vertical-align: top;\n",
       "    }\n",
       "\n",
       "    .dataframe thead th {\n",
       "        text-align: right;\n",
       "    }\n",
       "</style>\n",
       "<table border=\"1\" class=\"dataframe\">\n",
       "  <thead>\n",
       "    <tr style=\"text-align: right;\">\n",
       "      <th></th>\n",
       "      <th>fecha_fallecimiento</th>\n",
       "    </tr>\n",
       "  </thead>\n",
       "  <tbody>\n",
       "    <tr>\n",
       "      <th>count</th>\n",
       "      <td>649</td>\n",
       "    </tr>\n",
       "    <tr>\n",
       "      <th>mean</th>\n",
       "      <td>2018-11-23 15:27:27.457627136</td>\n",
       "    </tr>\n",
       "    <tr>\n",
       "      <th>min</th>\n",
       "      <td>2016-01-01 00:00:00</td>\n",
       "    </tr>\n",
       "    <tr>\n",
       "      <th>25%</th>\n",
       "      <td>2017-07-27 00:00:00</td>\n",
       "    </tr>\n",
       "    <tr>\n",
       "      <th>50%</th>\n",
       "      <td>2018-09-21 00:00:00</td>\n",
       "    </tr>\n",
       "    <tr>\n",
       "      <th>75%</th>\n",
       "      <td>2020-03-05 00:00:00</td>\n",
       "    </tr>\n",
       "    <tr>\n",
       "      <th>max</th>\n",
       "      <td>2022-01-03 00:00:00</td>\n",
       "    </tr>\n",
       "  </tbody>\n",
       "</table>\n",
       "</div>"
      ],
      "text/plain": [
       "                 fecha_fallecimiento\n",
       "count                            649\n",
       "mean   2018-11-23 15:27:27.457627136\n",
       "min              2016-01-01 00:00:00\n",
       "25%              2017-07-27 00:00:00\n",
       "50%              2018-09-21 00:00:00\n",
       "75%              2020-03-05 00:00:00\n",
       "max              2022-01-03 00:00:00"
      ]
     },
     "execution_count": 43,
     "metadata": {},
     "output_type": "execute_result"
    }
   ],
   "source": [
    "victima_h_lm.describe()"
   ]
  },
  {
   "cell_type": "code",
   "execution_count": null,
   "metadata": {},
   "outputs": [],
   "source": []
  },
  {
   "cell_type": "code",
   "execution_count": null,
   "metadata": {},
   "outputs": [],
   "source": []
  }
 ],
 "metadata": {
  "kernelspec": {
   "display_name": "Python 3",
   "language": "python",
   "name": "python3"
  },
  "language_info": {
   "codemirror_mode": {
    "name": "ipython",
    "version": 3
   },
   "file_extension": ".py",
   "mimetype": "text/x-python",
   "name": "python",
   "nbconvert_exporter": "python",
   "pygments_lexer": "ipython3",
   "version": "3.10.11"
  }
 },
 "nbformat": 4,
 "nbformat_minor": 2
}
